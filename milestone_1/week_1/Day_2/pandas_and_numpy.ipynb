{
 "cells": [
  {
   "cell_type": "markdown",
   "id": "a5bdadda",
   "metadata": {},
   "source": [
    "### Essential NumPy and Pandas Functions for Data Analysis\n",
    "\n",
    "Let's look at practical code snippets that demonstrate the most useful NumPy and pandas methods for data analysis in Python. You can use these in a Jupyter notebook for experimentation and workflow mastery."
   ]
  },
  {
   "cell_type": "markdown",
   "id": "d756a7ff",
   "metadata": {},
   "source": [
    "#### NumPy Basics for Data Analysis\n",
    "Import NumPy:"
   ]
  },
  {
   "cell_type": "code",
   "execution_count": 6,
   "id": "11776fab",
   "metadata": {},
   "outputs": [],
   "source": [
    "import numpy as np"
   ]
  },
  {
   "cell_type": "markdown",
   "id": "697cc53d",
   "metadata": {},
   "source": [
    "1. Creating Arrays"
   ]
  },
  {
   "cell_type": "code",
   "execution_count": 8,
   "id": "5346f74e",
   "metadata": {},
   "outputs": [],
   "source": [
    "arr = np.array([1, 2, 3, 4])            # 1D array\n",
    "matrix = np.array([[1, 2], [3, 4]])     # 2D array\n",
    "zeros = np.zeros((2, 3))                # 2x3 array of zeros\n",
    "ones = np.ones((2, 3))                  # 2x3 array of ones\n",
    "rnd = np.random.rand(2, 3)              # 2x3 array of random floats"
   ]
  },
  {
   "cell_type": "markdown",
   "id": "a3c9fc2c",
   "metadata": {},
   "source": [
    "2. Array Shape, Reshape, Flatten"
   ]
  },
  {
   "cell_type": "code",
   "execution_count": 10,
   "id": "58dc11da",
   "metadata": {},
   "outputs": [
    {
     "name": "stdout",
     "output_type": "stream",
     "text": [
      "(4,)\n"
     ]
    }
   ],
   "source": [
    "print(arr.shape)                # (4,)\n",
    "reshaped = matrix.reshape((4, 1))   # Reshape to 4 rows, 1 column\n",
    "flat = matrix.ravel()               # Flatten to 1D array"
   ]
  },
  {
   "cell_type": "markdown",
   "id": "8feb28e2",
   "metadata": {},
   "source": [
    "3. Indexing and Slicing"
   ]
  },
  {
   "cell_type": "code",
   "execution_count": 12,
   "id": "e2dd3ec3",
   "metadata": {},
   "outputs": [
    {
     "name": "stdout",
     "output_type": "stream",
     "text": [
      "2\n",
      "[2 3]\n"
     ]
    }
   ],
   "source": [
    "print(matrix[0, 1])    # element at first row, second column\n",
    "print(arr[1:3])        # slice elements 1 to 2"
   ]
  },
  {
   "cell_type": "markdown",
   "id": "196ce80c",
   "metadata": {},
   "source": [
    "4. Basic Math Operations"
   ]
  },
  {
   "cell_type": "code",
   "execution_count": 14,
   "id": "cc490150",
   "metadata": {},
   "outputs": [
    {
     "name": "stdout",
     "output_type": "stream",
     "text": [
      "[11 22 33]\n",
      "[ 9 18 27]\n",
      "[10 40 90]\n",
      "[10. 10. 10.]\n"
     ]
    }
   ],
   "source": [
    "a = np.array([10, 20, 30])\n",
    "b = np.array([1, 2, 3])\n",
    "print(a + b)           # [11 22 33]\n",
    "print(a - b)           # [ 9 18 27]\n",
    "print(a * b)           # [10 40 90]\n",
    "print(a / b)           # [10. 10. 10.]\n"
   ]
  },
  {
   "cell_type": "markdown",
   "id": "80b1dca7",
   "metadata": {},
   "source": [
    "5. Aggregation and Stats"
   ]
  },
  {
   "cell_type": "code",
   "execution_count": 16,
   "id": "f593fe13",
   "metadata": {},
   "outputs": [
    {
     "data": {
      "text/plain": [
       "(1, 4)"
      ]
     },
     "execution_count": 16,
     "metadata": {},
     "output_type": "execute_result"
    }
   ],
   "source": [
    "np.sum(arr)                 # 10\n",
    "np.mean(arr)                # 2.5\n",
    "np.std(arr)                 # Standard deviation\n",
    "np.min(arr), np.max(arr)    # Min and max values"
   ]
  },
  {
   "cell_type": "markdown",
   "id": "760c1f33",
   "metadata": {},
   "source": [
    "6. Dot Product, Matrix Ops"
   ]
  },
  {
   "cell_type": "code",
   "execution_count": 18,
   "id": "f97d960e",
   "metadata": {},
   "outputs": [],
   "source": [
    "a = np.array([1, 2, 3])\n",
    "b = np.array([4, 5, 6])\n",
    "dot = np.dot(a, b)          # 1*4 + 2*5 + 3*6 = 32\n",
    "mat = np.array([[1, 2], [3, 4]])\n",
    "mat2 = np.array([[5, 6], [7, 8]])\n",
    "matprod = np.matmul(mat, mat2) # Matrix multiplication"
   ]
  },
  {
   "cell_type": "markdown",
   "id": "fe9a547f",
   "metadata": {},
   "source": [
    "7. Logical and Filtering"
   ]
  },
  {
   "cell_type": "code",
   "execution_count": 20,
   "id": "0a1a8235",
   "metadata": {},
   "outputs": [
    {
     "data": {
      "text/plain": [
       "(array([2, 3], dtype=int64),)"
      ]
     },
     "execution_count": 20,
     "metadata": {},
     "output_type": "execute_result"
    }
   ],
   "source": [
    "arr[arr > 2]                # Returns [3, 4]\n",
    "np.where(arr > 2)           # Indices where condition is true"
   ]
  },
  {
   "cell_type": "markdown",
   "id": "ab927405",
   "metadata": {},
   "source": [
    "8. Random Sampling"
   ]
  },
  {
   "cell_type": "code",
   "execution_count": 22,
   "id": "4453e0d6",
   "metadata": {},
   "outputs": [
    {
     "data": {
      "text/plain": [
       "array([1, 1, 0, 0, 1, 1, 0, 0, 1, 1])"
      ]
     },
     "execution_count": 22,
     "metadata": {},
     "output_type": "execute_result"
    }
   ],
   "source": [
    "np.random.randint(0, 100, size=5) # 5 random ints 0-99\n",
    "np.random.choice([0, 1], size=10) # 10 random 0s or 1s"
   ]
  },
  {
   "cell_type": "markdown",
   "id": "d6acee10",
   "metadata": {},
   "source": [
    "#### Pandas Basics for Data Analysis\n",
    "Import pandas:"
   ]
  },
  {
   "cell_type": "code",
   "execution_count": 24,
   "id": "4c05d070",
   "metadata": {},
   "outputs": [],
   "source": [
    "import pandas as pd"
   ]
  },
  {
   "cell_type": "markdown",
   "id": "2bd15b71",
   "metadata": {},
   "source": [
    "1. Creating DataFrames"
   ]
  },
  {
   "cell_type": "code",
   "execution_count": 26,
   "id": "0f6029eb",
   "metadata": {},
   "outputs": [],
   "source": [
    "data = {'A': [1, 2, 3], 'B': [4, 5, 6]}\n",
    "df = pd.DataFrame(data) # Create DataFrame"
   ]
  },
  {
   "cell_type": "markdown",
   "id": "54d5cbde",
   "metadata": {},
   "source": [
    "2. Inspecting Data"
   ]
  },
  {
   "cell_type": "code",
   "execution_count": 28,
   "id": "d8d19d15",
   "metadata": {},
   "outputs": [
    {
     "name": "stdout",
     "output_type": "stream",
     "text": [
      "<class 'pandas.core.frame.DataFrame'>\n",
      "RangeIndex: 3 entries, 0 to 2\n",
      "Data columns (total 2 columns):\n",
      " #   Column  Non-Null Count  Dtype\n",
      "---  ------  --------------  -----\n",
      " 0   A       3 non-null      int64\n",
      " 1   B       3 non-null      int64\n",
      "dtypes: int64(2)\n",
      "memory usage: 180.0 bytes\n"
     ]
    },
    {
     "data": {
      "text/html": [
       "<div>\n",
       "<style scoped>\n",
       "    .dataframe tbody tr th:only-of-type {\n",
       "        vertical-align: middle;\n",
       "    }\n",
       "\n",
       "    .dataframe tbody tr th {\n",
       "        vertical-align: top;\n",
       "    }\n",
       "\n",
       "    .dataframe thead th {\n",
       "        text-align: right;\n",
       "    }\n",
       "</style>\n",
       "<table border=\"1\" class=\"dataframe\">\n",
       "  <thead>\n",
       "    <tr style=\"text-align: right;\">\n",
       "      <th></th>\n",
       "      <th>A</th>\n",
       "      <th>B</th>\n",
       "    </tr>\n",
       "  </thead>\n",
       "  <tbody>\n",
       "    <tr>\n",
       "      <th>count</th>\n",
       "      <td>3.0</td>\n",
       "      <td>3.0</td>\n",
       "    </tr>\n",
       "    <tr>\n",
       "      <th>mean</th>\n",
       "      <td>2.0</td>\n",
       "      <td>5.0</td>\n",
       "    </tr>\n",
       "    <tr>\n",
       "      <th>std</th>\n",
       "      <td>1.0</td>\n",
       "      <td>1.0</td>\n",
       "    </tr>\n",
       "    <tr>\n",
       "      <th>min</th>\n",
       "      <td>1.0</td>\n",
       "      <td>4.0</td>\n",
       "    </tr>\n",
       "    <tr>\n",
       "      <th>25%</th>\n",
       "      <td>1.5</td>\n",
       "      <td>4.5</td>\n",
       "    </tr>\n",
       "    <tr>\n",
       "      <th>50%</th>\n",
       "      <td>2.0</td>\n",
       "      <td>5.0</td>\n",
       "    </tr>\n",
       "    <tr>\n",
       "      <th>75%</th>\n",
       "      <td>2.5</td>\n",
       "      <td>5.5</td>\n",
       "    </tr>\n",
       "    <tr>\n",
       "      <th>max</th>\n",
       "      <td>3.0</td>\n",
       "      <td>6.0</td>\n",
       "    </tr>\n",
       "  </tbody>\n",
       "</table>\n",
       "</div>"
      ],
      "text/plain": [
       "         A    B\n",
       "count  3.0  3.0\n",
       "mean   2.0  5.0\n",
       "std    1.0  1.0\n",
       "min    1.0  4.0\n",
       "25%    1.5  4.5\n",
       "50%    2.0  5.0\n",
       "75%    2.5  5.5\n",
       "max    3.0  6.0"
      ]
     },
     "execution_count": 28,
     "metadata": {},
     "output_type": "execute_result"
    }
   ],
   "source": [
    "df.head()                # First 5 rows\n",
    "df.tail(3)                # Last 3 rows\n",
    "df.info()                 # DataFrame info + datatypes\n",
    "df.describe()             # Summary statistics"
   ]
  },
  {
   "cell_type": "markdown",
   "id": "29a19040",
   "metadata": {},
   "source": [
    "3. Selecting Data"
   ]
  },
  {
   "cell_type": "code",
   "execution_count": 30,
   "id": "84eac235",
   "metadata": {},
   "outputs": [
    {
     "data": {
      "text/html": [
       "<div>\n",
       "<style scoped>\n",
       "    .dataframe tbody tr th:only-of-type {\n",
       "        vertical-align: middle;\n",
       "    }\n",
       "\n",
       "    .dataframe tbody tr th {\n",
       "        vertical-align: top;\n",
       "    }\n",
       "\n",
       "    .dataframe thead th {\n",
       "        text-align: right;\n",
       "    }\n",
       "</style>\n",
       "<table border=\"1\" class=\"dataframe\">\n",
       "  <thead>\n",
       "    <tr style=\"text-align: right;\">\n",
       "      <th></th>\n",
       "      <th>A</th>\n",
       "      <th>B</th>\n",
       "    </tr>\n",
       "  </thead>\n",
       "  <tbody>\n",
       "    <tr>\n",
       "      <th>1</th>\n",
       "      <td>2</td>\n",
       "      <td>5</td>\n",
       "    </tr>\n",
       "    <tr>\n",
       "      <th>2</th>\n",
       "      <td>3</td>\n",
       "      <td>6</td>\n",
       "    </tr>\n",
       "  </tbody>\n",
       "</table>\n",
       "</div>"
      ],
      "text/plain": [
       "   A  B\n",
       "1  2  5\n",
       "2  3  6"
      ]
     },
     "execution_count": 30,
     "metadata": {},
     "output_type": "execute_result"
    }
   ],
   "source": [
    "df['A']                   # Get column A\n",
    "df.loc[0]                 # Row by label (index 0)\n",
    "df.iloc[1:3]              # Rows 1-2 by position\n",
    "df[df['A'] > 1]           # Filter rows where A > 1"
   ]
  },
  {
   "cell_type": "markdown",
   "id": "a837a835",
   "metadata": {},
   "source": [
    "4. Adding/Dropping Columns"
   ]
  },
  {
   "cell_type": "code",
   "execution_count": 32,
   "id": "168301f3",
   "metadata": {},
   "outputs": [],
   "source": [
    "df['C'] = df['A'] + df['B']     # Add new column\n",
    "new_df = df.drop('B', axis=1)   # Drop column B"
   ]
  },
  {
   "cell_type": "markdown",
   "id": "f4877748",
   "metadata": {},
   "source": [
    "5. Missing Values & Types"
   ]
  },
  {
   "cell_type": "code",
   "execution_count": 34,
   "id": "aef9b727",
   "metadata": {},
   "outputs": [],
   "source": [
    "df.isnull().sum()               # Missing values per column\n",
    "df.fillna(0)                    # Replace NaNs with 0\n",
    "df['A'] = df['A'].astype(float) # Change column type"
   ]
  },
  {
   "cell_type": "markdown",
   "id": "22042fab",
   "metadata": {},
   "source": [
    "6. Grouping and Aggregation"
   ]
  },
  {
   "cell_type": "code",
   "execution_count": 36,
   "id": "5390b4ea",
   "metadata": {},
   "outputs": [
    {
     "data": {
      "text/plain": [
       "A\n",
       "1.0    1\n",
       "2.0    1\n",
       "3.0    1\n",
       "Name: count, dtype: int64"
      ]
     },
     "execution_count": 36,
     "metadata": {},
     "output_type": "execute_result"
    }
   ],
   "source": [
    "grouped = df.groupby('A').sum()   # Sum columns, grouped by values in A\n",
    "df['A'].value_counts()            # Count unique values in A"
   ]
  },
  {
   "cell_type": "markdown",
   "id": "cd371dc6",
   "metadata": {},
   "source": [
    "7. Sorting"
   ]
  },
  {
   "cell_type": "code",
   "execution_count": 38,
   "id": "15817940",
   "metadata": {},
   "outputs": [
    {
     "data": {
      "text/html": [
       "<div>\n",
       "<style scoped>\n",
       "    .dataframe tbody tr th:only-of-type {\n",
       "        vertical-align: middle;\n",
       "    }\n",
       "\n",
       "    .dataframe tbody tr th {\n",
       "        vertical-align: top;\n",
       "    }\n",
       "\n",
       "    .dataframe thead th {\n",
       "        text-align: right;\n",
       "    }\n",
       "</style>\n",
       "<table border=\"1\" class=\"dataframe\">\n",
       "  <thead>\n",
       "    <tr style=\"text-align: right;\">\n",
       "      <th></th>\n",
       "      <th>A</th>\n",
       "      <th>B</th>\n",
       "      <th>C</th>\n",
       "    </tr>\n",
       "  </thead>\n",
       "  <tbody>\n",
       "    <tr>\n",
       "      <th>2</th>\n",
       "      <td>3.0</td>\n",
       "      <td>6</td>\n",
       "      <td>9</td>\n",
       "    </tr>\n",
       "    <tr>\n",
       "      <th>1</th>\n",
       "      <td>2.0</td>\n",
       "      <td>5</td>\n",
       "      <td>7</td>\n",
       "    </tr>\n",
       "    <tr>\n",
       "      <th>0</th>\n",
       "      <td>1.0</td>\n",
       "      <td>4</td>\n",
       "      <td>5</td>\n",
       "    </tr>\n",
       "  </tbody>\n",
       "</table>\n",
       "</div>"
      ],
      "text/plain": [
       "     A  B  C\n",
       "2  3.0  6  9\n",
       "1  2.0  5  7\n",
       "0  1.0  4  5"
      ]
     },
     "execution_count": 38,
     "metadata": {},
     "output_type": "execute_result"
    }
   ],
   "source": [
    "df.sort_values('B', ascending=False)  # Sort by column B"
   ]
  },
  {
   "cell_type": "markdown",
   "id": "d83aeed5",
   "metadata": {},
   "source": [
    "8. Reading/Writing Files"
   ]
  },
  {
   "cell_type": "code",
   "execution_count": 40,
   "id": "2c3671c0",
   "metadata": {},
   "outputs": [
    {
     "data": {
      "text/html": [
       "<div>\n",
       "<style scoped>\n",
       "    .dataframe tbody tr th:only-of-type {\n",
       "        vertical-align: middle;\n",
       "    }\n",
       "\n",
       "    .dataframe tbody tr th {\n",
       "        vertical-align: top;\n",
       "    }\n",
       "\n",
       "    .dataframe thead th {\n",
       "        text-align: right;\n",
       "    }\n",
       "</style>\n",
       "<table border=\"1\" class=\"dataframe\">\n",
       "  <thead>\n",
       "    <tr style=\"text-align: right;\">\n",
       "      <th></th>\n",
       "      <th>Unnamed: 0</th>\n",
       "      <th>A</th>\n",
       "      <th>B</th>\n",
       "      <th>C</th>\n",
       "    </tr>\n",
       "  </thead>\n",
       "  <tbody>\n",
       "    <tr>\n",
       "      <th>0</th>\n",
       "      <td>0</td>\n",
       "      <td>1.0</td>\n",
       "      <td>4</td>\n",
       "      <td>5</td>\n",
       "    </tr>\n",
       "    <tr>\n",
       "      <th>1</th>\n",
       "      <td>1</td>\n",
       "      <td>2.0</td>\n",
       "      <td>5</td>\n",
       "      <td>7</td>\n",
       "    </tr>\n",
       "    <tr>\n",
       "      <th>2</th>\n",
       "      <td>2</td>\n",
       "      <td>3.0</td>\n",
       "      <td>6</td>\n",
       "      <td>9</td>\n",
       "    </tr>\n",
       "  </tbody>\n",
       "</table>\n",
       "</div>"
      ],
      "text/plain": [
       "   Unnamed: 0    A  B  C\n",
       "0           0  1.0  4  5\n",
       "1           1  2.0  5  7\n",
       "2           2  3.0  6  9"
      ]
     },
     "execution_count": 40,
     "metadata": {},
     "output_type": "execute_result"
    }
   ],
   "source": [
    "df.to_csv('mydata.csv') # Save to CSV\n",
    "df = pd.read_csv('mydata.csv') # Load from CSV\n",
    "df.head()"
   ]
  },
  {
   "cell_type": "markdown",
   "id": "817386c4",
   "metadata": {},
   "source": [
    "9. Apply/Map Functions"
   ]
  },
  {
   "cell_type": "code",
   "execution_count": 42,
   "id": "9ffbb228",
   "metadata": {},
   "outputs": [
    {
     "data": {
      "text/html": [
       "<div>\n",
       "<style scoped>\n",
       "    .dataframe tbody tr th:only-of-type {\n",
       "        vertical-align: middle;\n",
       "    }\n",
       "\n",
       "    .dataframe tbody tr th {\n",
       "        vertical-align: top;\n",
       "    }\n",
       "\n",
       "    .dataframe thead th {\n",
       "        text-align: right;\n",
       "    }\n",
       "</style>\n",
       "<table border=\"1\" class=\"dataframe\">\n",
       "  <thead>\n",
       "    <tr style=\"text-align: right;\">\n",
       "      <th></th>\n",
       "      <th>Unnamed: 0</th>\n",
       "      <th>A</th>\n",
       "      <th>B</th>\n",
       "      <th>C</th>\n",
       "      <th>A_squared</th>\n",
       "      <th>B_label</th>\n",
       "    </tr>\n",
       "  </thead>\n",
       "  <tbody>\n",
       "    <tr>\n",
       "      <th>1</th>\n",
       "      <td>1</td>\n",
       "      <td>2.0</td>\n",
       "      <td>5</td>\n",
       "      <td>7</td>\n",
       "      <td>4.0</td>\n",
       "      <td>Med</td>\n",
       "    </tr>\n",
       "    <tr>\n",
       "      <th>2</th>\n",
       "      <td>2</td>\n",
       "      <td>3.0</td>\n",
       "      <td>6</td>\n",
       "      <td>9</td>\n",
       "      <td>9.0</td>\n",
       "      <td>High</td>\n",
       "    </tr>\n",
       "    <tr>\n",
       "      <th>0</th>\n",
       "      <td>0</td>\n",
       "      <td>1.0</td>\n",
       "      <td>4</td>\n",
       "      <td>5</td>\n",
       "      <td>1.0</td>\n",
       "      <td>Low</td>\n",
       "    </tr>\n",
       "  </tbody>\n",
       "</table>\n",
       "</div>"
      ],
      "text/plain": [
       "   Unnamed: 0    A  B  C  A_squared B_label\n",
       "1           1  2.0  5  7        4.0     Med\n",
       "2           2  3.0  6  9        9.0    High\n",
       "0           0  1.0  4  5        1.0     Low"
      ]
     },
     "execution_count": 42,
     "metadata": {},
     "output_type": "execute_result"
    }
   ],
   "source": [
    "df['A_squared'] = df['A'].apply(lambda x: x**2) # Apply to column\n",
    "df['B_label'] = df['B'].map({4: 'Low', 5: 'Med', 6: 'High'}) # Map values\n",
    "df.sample(3)"
   ]
  },
  {
   "cell_type": "markdown",
   "id": "e350a372",
   "metadata": {},
   "source": [
    "### Task:"
   ]
  },
  {
   "cell_type": "markdown",
   "id": "b9383e56",
   "metadata": {},
   "source": [
    "- Generated a Synthetic Dataset with columns of `age`, `salary`, `department`, `years_experience`, and `is_manager`."
   ]
  },
  {
   "cell_type": "code",
   "execution_count": 45,
   "id": "e5f21c72",
   "metadata": {},
   "outputs": [],
   "source": [
    "np.random.seed(42) # For reproducibility\n",
    "n_samples = 100 # Number of samples\n",
    "\n",
    "data = {\n",
    "    'age': np.random.randint(18, 60, size=n_samples),\n",
    "    'salary': np.random.randint(30000, 120000, size=n_samples),\n",
    "    'department': np.random.choice(['IT', 'HR', 'Finance', 'Marketing'], size=n_samples),\n",
    "    'years_experience': np.round(np.random.normal(5, 2, size=n_samples), 1),\n",
    "    'is_manager': np.random.choice([0, 1], size=n_samples)\n",
    "}\n",
    "df = pd.DataFrame(data)"
   ]
  },
  {
   "cell_type": "markdown",
   "id": "72aeed2a",
   "metadata": {},
   "source": [
    "Q1. View data structure"
   ]
  },
  {
   "cell_type": "code",
   "execution_count": 47,
   "id": "1ac7e984-77d5-42ca-bf38-05206fd396f0",
   "metadata": {},
   "outputs": [
    {
     "data": {
      "text/html": [
       "<div>\n",
       "<style scoped>\n",
       "    .dataframe tbody tr th:only-of-type {\n",
       "        vertical-align: middle;\n",
       "    }\n",
       "\n",
       "    .dataframe tbody tr th {\n",
       "        vertical-align: top;\n",
       "    }\n",
       "\n",
       "    .dataframe thead th {\n",
       "        text-align: right;\n",
       "    }\n",
       "</style>\n",
       "<table border=\"1\" class=\"dataframe\">\n",
       "  <thead>\n",
       "    <tr style=\"text-align: right;\">\n",
       "      <th></th>\n",
       "      <th>age</th>\n",
       "      <th>salary</th>\n",
       "      <th>department</th>\n",
       "      <th>years_experience</th>\n",
       "      <th>is_manager</th>\n",
       "    </tr>\n",
       "  </thead>\n",
       "  <tbody>\n",
       "    <tr>\n",
       "      <th>0</th>\n",
       "      <td>56</td>\n",
       "      <td>38392</td>\n",
       "      <td>IT</td>\n",
       "      <td>-0.8</td>\n",
       "      <td>0</td>\n",
       "    </tr>\n",
       "    <tr>\n",
       "      <th>1</th>\n",
       "      <td>46</td>\n",
       "      <td>60535</td>\n",
       "      <td>Marketing</td>\n",
       "      <td>3.4</td>\n",
       "      <td>1</td>\n",
       "    </tr>\n",
       "    <tr>\n",
       "      <th>2</th>\n",
       "      <td>32</td>\n",
       "      <td>108603</td>\n",
       "      <td>HR</td>\n",
       "      <td>5.0</td>\n",
       "      <td>1</td>\n",
       "    </tr>\n",
       "    <tr>\n",
       "      <th>3</th>\n",
       "      <td>25</td>\n",
       "      <td>82256</td>\n",
       "      <td>HR</td>\n",
       "      <td>4.2</td>\n",
       "      <td>1</td>\n",
       "    </tr>\n",
       "    <tr>\n",
       "      <th>4</th>\n",
       "      <td>38</td>\n",
       "      <td>119135</td>\n",
       "      <td>HR</td>\n",
       "      <td>4.1</td>\n",
       "      <td>1</td>\n",
       "    </tr>\n",
       "    <tr>\n",
       "      <th>...</th>\n",
       "      <td>...</td>\n",
       "      <td>...</td>\n",
       "      <td>...</td>\n",
       "      <td>...</td>\n",
       "      <td>...</td>\n",
       "    </tr>\n",
       "    <tr>\n",
       "      <th>95</th>\n",
       "      <td>59</td>\n",
       "      <td>82662</td>\n",
       "      <td>IT</td>\n",
       "      <td>4.0</td>\n",
       "      <td>0</td>\n",
       "    </tr>\n",
       "    <tr>\n",
       "      <th>96</th>\n",
       "      <td>56</td>\n",
       "      <td>42688</td>\n",
       "      <td>HR</td>\n",
       "      <td>4.4</td>\n",
       "      <td>1</td>\n",
       "    </tr>\n",
       "    <tr>\n",
       "      <th>97</th>\n",
       "      <td>58</td>\n",
       "      <td>55342</td>\n",
       "      <td>Marketing</td>\n",
       "      <td>6.0</td>\n",
       "      <td>0</td>\n",
       "    </tr>\n",
       "    <tr>\n",
       "      <th>98</th>\n",
       "      <td>45</td>\n",
       "      <td>67157</td>\n",
       "      <td>HR</td>\n",
       "      <td>11.4</td>\n",
       "      <td>0</td>\n",
       "    </tr>\n",
       "    <tr>\n",
       "      <th>99</th>\n",
       "      <td>24</td>\n",
       "      <td>97863</td>\n",
       "      <td>HR</td>\n",
       "      <td>5.2</td>\n",
       "      <td>1</td>\n",
       "    </tr>\n",
       "  </tbody>\n",
       "</table>\n",
       "<p>100 rows × 5 columns</p>\n",
       "</div>"
      ],
      "text/plain": [
       "    age  salary department  years_experience  is_manager\n",
       "0    56   38392         IT              -0.8           0\n",
       "1    46   60535  Marketing               3.4           1\n",
       "2    32  108603         HR               5.0           1\n",
       "3    25   82256         HR               4.2           1\n",
       "4    38  119135         HR               4.1           1\n",
       "..  ...     ...        ...               ...         ...\n",
       "95   59   82662         IT               4.0           0\n",
       "96   56   42688         HR               4.4           1\n",
       "97   58   55342  Marketing               6.0           0\n",
       "98   45   67157         HR              11.4           0\n",
       "99   24   97863         HR               5.2           1\n",
       "\n",
       "[100 rows x 5 columns]"
      ]
     },
     "execution_count": 47,
     "metadata": {},
     "output_type": "execute_result"
    }
   ],
   "source": [
    "df"
   ]
  },
  {
   "cell_type": "markdown",
   "id": "776e67b9",
   "metadata": {},
   "source": [
    "Q2. Get DataFrame Info and Summary Stats"
   ]
  },
  {
   "cell_type": "code",
   "execution_count": 49,
   "id": "17666094",
   "metadata": {},
   "outputs": [
    {
     "name": "stdout",
     "output_type": "stream",
     "text": [
      "<class 'pandas.core.frame.DataFrame'>\n",
      "RangeIndex: 100 entries, 0 to 99\n",
      "Data columns (total 5 columns):\n",
      " #   Column            Non-Null Count  Dtype  \n",
      "---  ------            --------------  -----  \n",
      " 0   age               100 non-null    int32  \n",
      " 1   salary            100 non-null    int32  \n",
      " 2   department        100 non-null    object \n",
      " 3   years_experience  100 non-null    float64\n",
      " 4   is_manager        100 non-null    int32  \n",
      "dtypes: float64(1), int32(3), object(1)\n",
      "memory usage: 2.9+ KB\n"
     ]
    }
   ],
   "source": [
    "df.info()"
   ]
  },
  {
   "cell_type": "code",
   "execution_count": 50,
   "id": "31083b72-44d8-41b5-8f7a-1afb2d2c2aaa",
   "metadata": {},
   "outputs": [
    {
     "data": {
      "text/plain": [
       "age                   int32\n",
       "salary                int32\n",
       "department           object\n",
       "years_experience    float64\n",
       "is_manager            int32\n",
       "dtype: object"
      ]
     },
     "execution_count": 50,
     "metadata": {},
     "output_type": "execute_result"
    }
   ],
   "source": [
    "df.dtypes"
   ]
  },
  {
   "cell_type": "code",
   "execution_count": 51,
   "id": "08c8e45c-1c2b-435a-9ab9-954a63cc595b",
   "metadata": {},
   "outputs": [
    {
     "data": {
      "text/html": [
       "<div>\n",
       "<style scoped>\n",
       "    .dataframe tbody tr th:only-of-type {\n",
       "        vertical-align: middle;\n",
       "    }\n",
       "\n",
       "    .dataframe tbody tr th {\n",
       "        vertical-align: top;\n",
       "    }\n",
       "\n",
       "    .dataframe thead th {\n",
       "        text-align: right;\n",
       "    }\n",
       "</style>\n",
       "<table border=\"1\" class=\"dataframe\">\n",
       "  <thead>\n",
       "    <tr style=\"text-align: right;\">\n",
       "      <th></th>\n",
       "      <th>age</th>\n",
       "      <th>salary</th>\n",
       "      <th>years_experience</th>\n",
       "      <th>is_manager</th>\n",
       "    </tr>\n",
       "  </thead>\n",
       "  <tbody>\n",
       "    <tr>\n",
       "      <th>count</th>\n",
       "      <td>100.000000</td>\n",
       "      <td>100.000000</td>\n",
       "      <td>100.000000</td>\n",
       "      <td>100.000000</td>\n",
       "    </tr>\n",
       "    <tr>\n",
       "      <th>mean</th>\n",
       "      <td>37.910000</td>\n",
       "      <td>77809.160000</td>\n",
       "      <td>4.823000</td>\n",
       "      <td>0.470000</td>\n",
       "    </tr>\n",
       "    <tr>\n",
       "      <th>std</th>\n",
       "      <td>12.219454</td>\n",
       "      <td>26058.643576</td>\n",
       "      <td>2.237822</td>\n",
       "      <td>0.501614</td>\n",
       "    </tr>\n",
       "    <tr>\n",
       "      <th>min</th>\n",
       "      <td>18.000000</td>\n",
       "      <td>30206.000000</td>\n",
       "      <td>-0.800000</td>\n",
       "      <td>0.000000</td>\n",
       "    </tr>\n",
       "    <tr>\n",
       "      <th>25%</th>\n",
       "      <td>26.750000</td>\n",
       "      <td>55141.000000</td>\n",
       "      <td>3.475000</td>\n",
       "      <td>0.000000</td>\n",
       "    </tr>\n",
       "    <tr>\n",
       "      <th>50%</th>\n",
       "      <td>38.000000</td>\n",
       "      <td>80932.000000</td>\n",
       "      <td>4.700000</td>\n",
       "      <td>0.000000</td>\n",
       "    </tr>\n",
       "    <tr>\n",
       "      <th>75%</th>\n",
       "      <td>46.250000</td>\n",
       "      <td>98107.250000</td>\n",
       "      <td>6.000000</td>\n",
       "      <td>1.000000</td>\n",
       "    </tr>\n",
       "    <tr>\n",
       "      <th>max</th>\n",
       "      <td>59.000000</td>\n",
       "      <td>119474.000000</td>\n",
       "      <td>11.400000</td>\n",
       "      <td>1.000000</td>\n",
       "    </tr>\n",
       "  </tbody>\n",
       "</table>\n",
       "</div>"
      ],
      "text/plain": [
       "              age         salary  years_experience  is_manager\n",
       "count  100.000000     100.000000        100.000000  100.000000\n",
       "mean    37.910000   77809.160000          4.823000    0.470000\n",
       "std     12.219454   26058.643576          2.237822    0.501614\n",
       "min     18.000000   30206.000000         -0.800000    0.000000\n",
       "25%     26.750000   55141.000000          3.475000    0.000000\n",
       "50%     38.000000   80932.000000          4.700000    0.000000\n",
       "75%     46.250000   98107.250000          6.000000    1.000000\n",
       "max     59.000000  119474.000000         11.400000    1.000000"
      ]
     },
     "execution_count": 51,
     "metadata": {},
     "output_type": "execute_result"
    }
   ],
   "source": [
    "df.describe()"
   ]
  },
  {
   "cell_type": "markdown",
   "id": "4aeb350a",
   "metadata": {},
   "source": [
    "Q3. Do Simple Numpy Operations"
   ]
  },
  {
   "cell_type": "code",
   "execution_count": 53,
   "id": "e12ace25",
   "metadata": {},
   "outputs": [
    {
     "data": {
      "text/plain": [
       "59"
      ]
     },
     "execution_count": 53,
     "metadata": {},
     "output_type": "execute_result"
    }
   ],
   "source": [
    "df['age'].max()"
   ]
  },
  {
   "cell_type": "code",
   "execution_count": 54,
   "id": "8e13226e-0d6e-4264-9eae-954dfbc620ab",
   "metadata": {},
   "outputs": [
    {
     "data": {
      "text/plain": [
       "18"
      ]
     },
     "execution_count": 54,
     "metadata": {},
     "output_type": "execute_result"
    }
   ],
   "source": [
    "df['age'].min()"
   ]
  },
  {
   "cell_type": "code",
   "execution_count": 55,
   "id": "e5697612-3b2a-4bd2-8760-7dc61e7a9940",
   "metadata": {},
   "outputs": [
    {
     "data": {
      "text/plain": [
       "37.91"
      ]
     },
     "execution_count": 55,
     "metadata": {},
     "output_type": "execute_result"
    }
   ],
   "source": [
    "df['age'].mean()"
   ]
  },
  {
   "cell_type": "code",
   "execution_count": 56,
   "id": "4c0df895-f562-4434-80ae-3205df868ac6",
   "metadata": {},
   "outputs": [
    {
     "data": {
      "text/plain": [
       "3791"
      ]
     },
     "execution_count": 56,
     "metadata": {},
     "output_type": "execute_result"
    }
   ],
   "source": [
    "df['age'].sum()"
   ]
  },
  {
   "cell_type": "code",
   "execution_count": 93,
   "id": "1a397c60-9465-4ef3-b7d2-e6fbf169b72b",
   "metadata": {},
   "outputs": [
    {
     "data": {
      "text/plain": [
       "12.21945377277767"
      ]
     },
     "execution_count": 93,
     "metadata": {},
     "output_type": "execute_result"
    }
   ],
   "source": [
    "df['age'].std()"
   ]
  },
  {
   "cell_type": "markdown",
   "id": "fac51bba",
   "metadata": {},
   "source": [
    "Q4. Filtering and Indexing Rows"
   ]
  },
  {
   "cell_type": "code",
   "execution_count": 97,
   "id": "de6f3d49",
   "metadata": {},
   "outputs": [
    {
     "name": "stdout",
     "output_type": "stream",
     "text": [
      "    age  salary department  years_experience  is_manager\n",
      "4    38  119135         HR               4.1           1\n",
      "8    28  114651  Marketing               5.8           1\n",
      "17   41  112948  Marketing               6.7           1\n",
      "20   19  117054  Marketing               6.7           0\n",
      "21   38  117897    Finance               5.8           0\n",
      "26   44  117939  Marketing               1.4           0\n",
      "28   45  110356    Finance               5.7           1\n",
      "35   26  111734         HR               3.8           0\n",
      "76   42  113211         HR               8.6           0\n",
      "79   32  119474  Marketing               4.3           1\n",
      "82   24  115616         IT               9.3           1\n",
      "89   34  117092    Finance               4.5           0\n",
      "92   52  117455         IT               3.9           0\n"
     ]
    }
   ],
   "source": [
    "print( df[df['salary'] > 110000])"
   ]
  },
  {
   "cell_type": "code",
   "execution_count": 99,
   "id": "308b2227-cc2b-492d-8f4f-1e0f6b3469aa",
   "metadata": {},
   "outputs": [
    {
     "name": "stdout",
     "output_type": "stream",
     "text": [
      "    age  salary department  years_experience  is_manager\n",
      "7    40  109575  Marketing               6.9           0\n",
      "11   53   54538  Marketing               5.3           0\n",
      "18   47   36910  Marketing               7.6           0\n",
      "20   19  117054  Marketing               6.7           0\n",
      "26   44  117939  Marketing               1.4           0\n",
      "27   59   48141  Marketing               4.5           0\n",
      "32   54   63827  Marketing               9.2           0\n",
      "33   24   85820  Marketing               8.1           0\n",
      "39   42   94044  Marketing               1.8           0\n",
      "52   57   51976  Marketing               3.5           0\n",
      "54   19   53776  Marketing               3.9           0\n",
      "59   35   85016  Marketing               7.4           0\n",
      "61   51   88053  Marketing               5.3           0\n",
      "64   31   33748  Marketing               6.9           0\n",
      "71   38   84384  Marketing               5.8           0\n",
      "74   41   69353  Marketing               3.3           0\n",
      "75   43   92003  Marketing               6.7           0\n",
      "80   18   53664  Marketing               5.4           0\n",
      "84   41   30854  Marketing               8.3           0\n",
      "87   41   85680  Marketing               3.8           0\n",
      "90   25   80859  Marketing               4.4           0\n",
      "97   58   55342  Marketing               6.0           0\n"
     ]
    }
   ],
   "source": [
    "print(df[(df['department'] == 'Marketing') & (df['is_manager'] == 0)])"
   ]
  },
  {
   "cell_type": "code",
   "execution_count": 101,
   "id": "2704244c-6f82-400b-95d6-1bbc1cb84719",
   "metadata": {},
   "outputs": [
    {
     "name": "stdout",
     "output_type": "stream",
     "text": [
      "    age  salary department  years_experience  is_manager\n",
      "6    36  107373    Finance               6.7           1\n",
      "7    40  109575  Marketing               6.9           0\n",
      "8    28  114651  Marketing               5.8           1\n",
      "10   41   40965         IT               9.5           1\n",
      "11   53   54538  Marketing               5.3           0\n",
      "12   57  100592    Finance               6.1           1\n",
      "15   39   57266         IT               5.8           1\n",
      "17   41  112948  Marketing               6.7           1\n",
      "18   47   36910  Marketing               7.6           0\n",
      "20   19  117054  Marketing               6.7           0\n",
      "21   38  117897    Finance               5.8           0\n",
      "24   39   80015    Finance               8.0           1\n",
      "25   42   84268    Finance               5.8           0\n",
      "28   45  110356    Finance               5.7           1\n",
      "29   33  101910  Marketing               6.0           1\n",
      "31   20   97214         IT               5.7           1\n",
      "32   54   63827  Marketing               9.2           0\n",
      "33   24   85820  Marketing               8.1           0\n",
      "41   26   79080         IT               7.8           0\n",
      "44   37   55939    Finance               6.8           1\n",
      "46   24   72941         HR               5.8           0\n",
      "49   31   56105  Marketing               5.9           1\n",
      "53   21   74262         IT               5.4           0\n",
      "57   21   91373         HR               9.0           0\n",
      "59   35   85016  Marketing               7.4           0\n",
      "60   43   39474         HR               5.3           0\n",
      "61   51   88053  Marketing               5.3           0\n",
      "62   27   51959         IT               5.7           1\n",
      "64   31   33748  Marketing               6.9           0\n",
      "66   32   96199    Finance               7.4           0\n",
      "71   38   84384  Marketing               5.8           0\n",
      "75   43   92003  Marketing               6.7           0\n",
      "76   42  113211         HR               8.6           0\n",
      "80   18   53664  Marketing               5.4           0\n",
      "81   42   97172    Finance               6.2           0\n",
      "82   24  115616         IT               9.3           1\n",
      "83   26   56736  Marketing               5.5           1\n",
      "84   41   30854  Marketing               8.3           0\n",
      "86   25   37392  Marketing               5.2           1\n",
      "93   50   93734    Finance               7.2           0\n",
      "94   22  100467         IT               9.2           0\n",
      "97   58   55342  Marketing               6.0           0\n",
      "98   45   67157         HR              11.4           0\n",
      "99   24   97863         HR               5.2           1\n"
     ]
    }
   ],
   "source": [
    "print(df[df['years_experience'] > 5])"
   ]
  },
  {
   "cell_type": "markdown",
   "id": "2257f028",
   "metadata": {},
   "source": [
    "Q5. Adding a Column"
   ]
  },
  {
   "cell_type": "code",
   "execution_count": 107,
   "id": "af1c7a54-dcc2-463f-8b5c-fea1a2e499e6",
   "metadata": {},
   "outputs": [],
   "source": [
    "df['years_experience'] = df['years_experience'].clip(lower=0)"
   ]
  },
  {
   "cell_type": "code",
   "execution_count": 109,
   "id": "c46ad19f",
   "metadata": {},
   "outputs": [],
   "source": [
    "df['age_per_experience'] = (df['age'] / (df['years_experience'] + 1)).round(2)"
   ]
  },
  {
   "cell_type": "code",
   "execution_count": 111,
   "id": "c7a7e735-bc18-4b1c-81b2-1ea139ff878f",
   "metadata": {},
   "outputs": [
    {
     "data": {
      "text/html": [
       "<div>\n",
       "<style scoped>\n",
       "    .dataframe tbody tr th:only-of-type {\n",
       "        vertical-align: middle;\n",
       "    }\n",
       "\n",
       "    .dataframe tbody tr th {\n",
       "        vertical-align: top;\n",
       "    }\n",
       "\n",
       "    .dataframe thead th {\n",
       "        text-align: right;\n",
       "    }\n",
       "</style>\n",
       "<table border=\"1\" class=\"dataframe\">\n",
       "  <thead>\n",
       "    <tr style=\"text-align: right;\">\n",
       "      <th></th>\n",
       "      <th>age</th>\n",
       "      <th>salary</th>\n",
       "      <th>department</th>\n",
       "      <th>years_experience</th>\n",
       "      <th>is_manager</th>\n",
       "      <th>age_per_experience</th>\n",
       "    </tr>\n",
       "  </thead>\n",
       "  <tbody>\n",
       "    <tr>\n",
       "      <th>0</th>\n",
       "      <td>56</td>\n",
       "      <td>38392</td>\n",
       "      <td>IT</td>\n",
       "      <td>0.0</td>\n",
       "      <td>0</td>\n",
       "      <td>56.00</td>\n",
       "    </tr>\n",
       "    <tr>\n",
       "      <th>1</th>\n",
       "      <td>46</td>\n",
       "      <td>60535</td>\n",
       "      <td>Marketing</td>\n",
       "      <td>3.4</td>\n",
       "      <td>1</td>\n",
       "      <td>10.45</td>\n",
       "    </tr>\n",
       "    <tr>\n",
       "      <th>2</th>\n",
       "      <td>32</td>\n",
       "      <td>108603</td>\n",
       "      <td>HR</td>\n",
       "      <td>5.0</td>\n",
       "      <td>1</td>\n",
       "      <td>5.33</td>\n",
       "    </tr>\n",
       "    <tr>\n",
       "      <th>3</th>\n",
       "      <td>25</td>\n",
       "      <td>82256</td>\n",
       "      <td>HR</td>\n",
       "      <td>4.2</td>\n",
       "      <td>1</td>\n",
       "      <td>4.81</td>\n",
       "    </tr>\n",
       "    <tr>\n",
       "      <th>4</th>\n",
       "      <td>38</td>\n",
       "      <td>119135</td>\n",
       "      <td>HR</td>\n",
       "      <td>4.1</td>\n",
       "      <td>1</td>\n",
       "      <td>7.45</td>\n",
       "    </tr>\n",
       "  </tbody>\n",
       "</table>\n",
       "</div>"
      ],
      "text/plain": [
       "   age  salary department  years_experience  is_manager  age_per_experience\n",
       "0   56   38392         IT               0.0           0               56.00\n",
       "1   46   60535  Marketing               3.4           1               10.45\n",
       "2   32  108603         HR               5.0           1                5.33\n",
       "3   25   82256         HR               4.2           1                4.81\n",
       "4   38  119135         HR               4.1           1                7.45"
      ]
     },
     "execution_count": 111,
     "metadata": {},
     "output_type": "execute_result"
    }
   ],
   "source": [
    "df.head()"
   ]
  },
  {
   "cell_type": "markdown",
   "id": "65d7044c",
   "metadata": {},
   "source": [
    "Q6. Grouping and Aggregation"
   ]
  },
  {
   "cell_type": "code",
   "execution_count": 113,
   "id": "a046b7d7",
   "metadata": {},
   "outputs": [],
   "source": [
    "department_stats = df.groupby('department').agg(\n",
    "    average_salary=('salary', 'mean'),\n",
    "    average_age=('age', 'mean'),\n",
    "    number_of_managers=('is_manager', 'sum')\n",
    ")"
   ]
  },
  {
   "cell_type": "code",
   "execution_count": 115,
   "id": "f9787865-8d5c-445d-ad26-4057e932a4e9",
   "metadata": {},
   "outputs": [
    {
     "name": "stdout",
     "output_type": "stream",
     "text": [
      "            average_salary  average_age  number_of_managers\n",
      "department                                                 \n",
      "Finance       83124.708333    39.416667                  10\n",
      "HR            73523.052632    37.157895                  10\n",
      "IT            75825.476190    36.809524                  13\n",
      "Marketing     77684.722222    37.944444                  14\n"
     ]
    }
   ],
   "source": [
    "print(department_stats)"
   ]
  },
  {
   "cell_type": "code",
   "execution_count": 119,
   "id": "be39e6f3-fdf6-40da-a85e-46978f9aed76",
   "metadata": {},
   "outputs": [],
   "source": [
    "department_stats['average_salary'] = department_stats['average_salary'].round(2)"
   ]
  },
  {
   "cell_type": "code",
   "execution_count": 121,
   "id": "3174200b-4907-4d73-8532-62e1c70e66d2",
   "metadata": {},
   "outputs": [
    {
     "name": "stdout",
     "output_type": "stream",
     "text": [
      "            average_salary  average_age  number_of_managers\n",
      "department                                                 \n",
      "Finance           83124.71    39.416667                  10\n",
      "HR                73523.05    37.157895                  10\n",
      "IT                75825.48    36.809524                  13\n",
      "Marketing         77684.72    37.944444                  14\n"
     ]
    }
   ],
   "source": [
    "print(department_stats)"
   ]
  },
  {
   "cell_type": "code",
   "execution_count": null,
   "id": "18eef5d1-791c-4ce0-922e-33c20e47b799",
   "metadata": {},
   "outputs": [],
   "source": []
  }
 ],
 "metadata": {
  "kernelspec": {
   "display_name": "Python 3 (ipykernel)",
   "language": "python",
   "name": "python3"
  },
  "language_info": {
   "codemirror_mode": {
    "name": "ipython",
    "version": 3
   },
   "file_extension": ".py",
   "mimetype": "text/x-python",
   "name": "python",
   "nbconvert_exporter": "python",
   "pygments_lexer": "ipython3",
   "version": "3.12.4"
  }
 },
 "nbformat": 4,
 "nbformat_minor": 5
}
