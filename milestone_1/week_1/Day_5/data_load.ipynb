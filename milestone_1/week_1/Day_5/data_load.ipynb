{
 "cells": [
  {
   "cell_type": "markdown",
   "id": "4a6b0edc",
   "metadata": {},
   "source": [
    "## 🧭 Data Loading — USGS Global Earthquake Dataset (1900–Present)\n",
    "\n",
    "This dataset contains detailed information on significant global earthquakes \n",
    "(magnitude ≥ 5.0) recorded since 1900. Sourced weekly from the United States \n",
    "Geological Survey (USGS), it includes comprehensive data such as timestamp, \n",
    "location (latitude & longitude), magnitude, depth, and measurement network details.\n",
    "\n",
    "Earthquakes originate from tectonic activity across both highly seismic regions, such \n",
    "as the Pacific Ring of Fire, and less active zones like Europe and Africa. The dataset \n",
    "serves as a valuable resource for analyzing long-term seismic patterns, understanding \n",
    "geological behavior, and developing predictive models.\n",
    "\n",
    "### Key Columns Explained:\n",
    "- **time**: Timestamp in milliseconds since Unix epoch (UTC) representing event occurrence.\n",
    "- **latitude / longitude**: Coordinates of the earthquake's epicenter (in decimal degrees).\n",
    "- **depth**: Depth of the event in kilometers.\n",
    "- **mag**: Reported earthquake magnitude.\n",
    "- **magType**: Type of magnitude measurement (e.g., mb, ml, mw).\n",
    "- **nst**: Number of stations used to compute the earthquake solution.\n",
    "- **gap**: Largest azimuthal gap between stations, in degrees.\n",
    "- **dmin**: Distance to the nearest recording station (in degrees).\n",
    "- **rms**: Root-mean-square residual of seismic station readings.\n",
    "- **net / id**: Network and unique event identifiers.\n",
    "- **updated**: Last update timestamp for the event record.\n",
    "- **place**: Human-readable location description.\n",
    "- **type**: Event type (e.g., “earthquake”, “explosion”, “quarry blast”).\n",
    "- **horizontalError / depthError / magError**: Uncertainty measurements of calculations.\n",
    "- **status**: Event status within USGS catalog (e.g., “reviewed”, “automatic”).\n",
    "- **locationSource / magSource**: Networks providing the location and magnitude data.\n",
    "\n",
    "This dataset supports exploratory analyses, time-series pattern detection, and \n",
    "predictive-modeling of seismic events worldwide, making it highly applicable to \n",
    "earthquake research and risk assessment projects.\n",
    "\n",
    "Source Link: https://www.kaggle.com/datasets/usamabuttar/significant-earthquakes?resource=download\n"
   ]
  },
  {
   "cell_type": "code",
   "execution_count": null,
   "id": "b39c2301",
   "metadata": {},
   "outputs": [],
   "source": [
    "\n",
    "# Example: Load USGS Earthquake Data\n",
    "import pandas as pd\n",
    "\n",
    "# Replace this path or URL with your actual dataset location\n",
    "data_path = \"earthquakes_data.csv\"\n",
    "earthquake_df = pd.read_csv(data_path)\n",
    "\n",
    "# Display basic information and preview\n",
    "earthquake_df.info()\n",
    "earthquake_df.head()"
   ]
  },
  {
   "cell_type": "markdown",
   "id": "70b3aaf8",
   "metadata": {},
   "source": [
    "## 🔍 Data Inspection — Exploring Earthquake Dataset Structure\n",
    "\n",
    "In this stage, we perform an initial inspection of the earthquake data \n",
    "to understand its overall structure, completeness, and summary statistics.\n",
    "\n",
    "Typical inspection steps include:\n",
    "1. Viewing the dataset shape and column names.\n",
    "2. Identifying data types and non-null counts.\n",
    "3. Checking for missing values.\n",
    "4. Reviewing unique entries in categorical columns.\n",
    "5. Exploring basic descriptive statistics to detect scale variations or anomalies."
   ]
  },
  {
   "cell_type": "code",
   "execution_count": null,
   "id": "55f56aaf",
   "metadata": {},
   "outputs": [],
   "source": [
    "# View the dataset shape (rows × columns)\n",
    "print(\"Dataset shape:\", earthquake_df.shape)"
   ]
  },
  {
   "cell_type": "code",
   "execution_count": null,
   "id": "c2ed3969",
   "metadata": {},
   "outputs": [],
   "source": [
    "# Display the first few records\n",
    "display(earthquake_df.head())"
   ]
  },
  {
   "cell_type": "code",
   "execution_count": null,
   "id": "cc34b1d2",
   "metadata": {},
   "outputs": [],
   "source": [
    "# Display column names and their data types\n",
    "print(\"\\n--- Column Details ---\")\n",
    "earthquake_df.info()"
   ]
  },
  {
   "cell_type": "code",
   "execution_count": null,
   "id": "563b69d8",
   "metadata": {},
   "outputs": [],
   "source": [
    "# Check for missing values across all columns\n",
    "print(\"\\n--- Missing Values Summary ---\")\n",
    "missing_summary = earthquake_df.isnull().sum().sort_values(ascending=False)\n",
    "display(missing_summary[missing_summary > 0])"
   ]
  },
  {
   "cell_type": "code",
   "execution_count": null,
   "id": "f504f3c1",
   "metadata": {},
   "outputs": [],
   "source": [
    "# View unique event types and magnitude types\n",
    "print(\"\\n--- Unique Event Types ---\")\n",
    "print(earthquake_df[\"type\"].unique())"
   ]
  },
  {
   "cell_type": "code",
   "execution_count": null,
   "id": "5fcca1b9",
   "metadata": {},
   "outputs": [],
   "source": [
    "print(\"\\n--- Unique Magnitude Types ---\")\n",
    "print(earthquake_df[\"magType\"].unique())"
   ]
  },
  {
   "cell_type": "code",
   "execution_count": null,
   "id": "608521b8",
   "metadata": {},
   "outputs": [],
   "source": [
    "# Get statistical overview for numerical columns\n",
    "print(\"\\n--- Descriptive Statistics ---\")\n",
    "display(earthquake_df.describe())"
   ]
  },
  {
   "cell_type": "code",
   "execution_count": null,
   "id": "381d0c53",
   "metadata": {},
   "outputs": [],
   "source": [
    "# Example: Checking for duplicate records using unique ID\n",
    "duplicate_count = earthquake_df.duplicated(subset=['id']).sum()\n",
    "print(f\"\\nDuplicate Records Based on 'id': {duplicate_count}\")"
   ]
  }
 ],
 "metadata": {
  "kernelspec": {
   "display_name": "Python 3",
   "language": "python",
   "name": "python3"
  },
  "language_info": {
   "name": "python",
   "version": "3.11.9"
  }
 },
 "nbformat": 4,
 "nbformat_minor": 5
}
